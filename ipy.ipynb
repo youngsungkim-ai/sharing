$ jupyter notebook
%matplotlib inline
\\(\sigma\\), \\(\beta\\), \\(\rho\\)
